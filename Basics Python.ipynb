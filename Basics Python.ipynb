{
 "cells": [
  {
   "cell_type": "code",
   "execution_count": 6,
   "id": "c147fa5a-fe59-488f-aca5-57f658a0eae2",
   "metadata": {},
   "outputs": [
    {
     "name": "stdout",
     "output_type": "stream",
     "text": [
      "number is negative\n"
     ]
    }
   ],
   "source": [
    "num = -3\n",
    "if num >=0:\n",
    "    print(\"number is positive\")\n",
    "else:\n",
    "    print(\"number is negative\")\n",
    "    "
   ]
  },
  {
   "cell_type": "code",
   "execution_count": 9,
   "id": "a39bf7ec-c770-43bc-afbb-a7cf8898c62b",
   "metadata": {},
   "outputs": [
    {
     "name": "stdout",
     "output_type": "stream",
     "text": [
      "I love python I love Java\n"
     ]
    }
   ],
   "source": [
    "string1 = \"I love python \"\n",
    "string2 = \"I love Java\"\n",
    "print(string1 + string2)"
   ]
  },
  {
   "cell_type": "code",
   "execution_count": 11,
   "id": "c67422bf-435d-40cc-92c4-99445d6bf225",
   "metadata": {},
   "outputs": [
    {
     "name": "stdout",
     "output_type": "stream",
     "text": [
      "True\n",
      "False\n"
     ]
    }
   ],
   "source": [
    "a= True\n",
    "b = False\n",
    "print(a)\n",
    "print(b)"
   ]
  },
  {
   "cell_type": "code",
   "execution_count": 12,
   "id": "5a42386d-607d-4cdf-8ce5-a30bb228913b",
   "metadata": {},
   "outputs": [
    {
     "name": "stdout",
     "output_type": "stream",
     "text": [
      "False\n",
      "True\n"
     ]
    }
   ],
   "source": [
    "a = not True\n",
    "b = not False\n",
    "print(a)\n",
    "print(b)"
   ]
  },
  {
   "cell_type": "code",
   "execution_count": 15,
   "id": "81d714b9-744c-4227-81cd-a68c1587aab8",
   "metadata": {},
   "outputs": [
    {
     "name": "stdout",
     "output_type": "stream",
     "text": [
      "Your animal is in the list\n",
      "Your animal is not in the list\n"
     ]
    }
   ],
   "source": [
    "animal = \"dog\"\n",
    "if animal in  [\"horse\",\"cow\",\"dog\"]:\n",
    "    print (\"Your animal is in the list\")\n",
    "\n",
    "if animal not in [\"horse\", \"cow\"]:\n",
    "    print(\"Your animal is not in the list\")\n",
    "    "
   ]
  },
  {
   "cell_type": "code",
   "execution_count": 16,
   "id": "e2102d95-d878-4d0e-858e-0933244de8be",
   "metadata": {},
   "outputs": [
    {
     "name": "stdout",
     "output_type": "stream",
     "text": [
      "answer the question to know how long live that you lived.\n"
     ]
    },
    {
     "name": "stdin",
     "output_type": "stream",
     "text": [
      "Enter Your Name: Junaid Ali\n"
     ]
    },
    {
     "name": "stdout",
     "output_type": "stream",
     "text": [
      "What is Your Age? Junaid Ali ?\n"
     ]
    },
    {
     "name": "stdin",
     "output_type": "stream",
     "text": [
      "Age:  25\n"
     ]
    },
    {
     "name": "stdout",
     "output_type": "stream",
     "text": [
      "Junaid Ali is alive for 9125 Days 13148700 Minutes 788923150 Seconds\n",
      "Thanku for using my age calc program\n"
     ]
    }
   ],
   "source": [
    "print(\"answer the question to know how long live that you lived.\")\n",
    "name = input(\"Enter Your Name:\")\n",
    "print(\"What is Your Age?\",(name),\"?\")\n",
    "age = int(input(\"Age: \"))\n",
    "days = age*365\n",
    "minutes = age*525948\n",
    "seconds = age*31556926\n",
    "print(name,'is alive for',days,'Days',minutes,'Minutes',seconds,\"Seconds\")\n",
    "print(\"Thanku for using my age calc program\")"
   ]
  },
  {
   "cell_type": "code",
   "execution_count": 18,
   "id": "02453b68-3f1f-4229-9c19-5654d226a035",
   "metadata": {},
   "outputs": [
    {
     "name": "stdout",
     "output_type": "stream",
     "text": [
      "Junaid Ali 32\n"
     ]
    }
   ],
   "source": [
    "My_Name = \"Junaid Ali \"\n",
    "Age = 32\n",
    "Total =My_Name+str(Age)\n",
    "print(Total)"
   ]
  },
  {
   "cell_type": "code",
   "execution_count": 4,
   "id": "b855d1af-516f-4dc9-ac98-5fe3d708e697",
   "metadata": {},
   "outputs": [
    {
     "name": "stdout",
     "output_type": "stream",
     "text": [
      "['Lion', 'dog', 'Cow', 'Duck']\n",
      "Dog\n",
      "Cow\n"
     ]
    }
   ],
   "source": [
    "animals = [\"Lion\", \"dog\" , \"Cow\" ,\"Duck\"]\n",
    "print(animals)\n",
    "print(animals[-3].title())\n",
    "print(animals[2])"
   ]
  },
  {
   "cell_type": "code",
   "execution_count": 5,
   "id": "809b86ac-5c69-4ffe-bd4f-0c9327cc27ad",
   "metadata": {},
   "outputs": [
    {
     "name": "stdout",
     "output_type": "stream",
     "text": [
      "['Lion', 'dog', 'Cow', 'Tiger']\n"
     ]
    }
   ],
   "source": [
    "animals = [\"Lion\", \"dog\" , \"Cow\" ,\"Duck\"]\n",
    "animals[3]=\"Tiger\"\n",
    "print(animals)"
   ]
  },
  {
   "cell_type": "code",
   "execution_count": 6,
   "id": "9dfebcb0-dc0c-4b1b-a6d5-f02312fc1651",
   "metadata": {},
   "outputs": [
    {
     "name": "stdout",
     "output_type": "stream",
     "text": [
      "['Lion', 'dog', 'Duck']\n"
     ]
    }
   ],
   "source": [
    "animals = [\"Lion\", \"dog\" , \"Cow\" ,\"Duck\"]\n",
    "del animals[2]\n",
    "print(animals)"
   ]
  },
  {
   "cell_type": "code",
   "execution_count": 16,
   "id": "34242926-7492-4468-b70d-65a6720888cd",
   "metadata": {},
   "outputs": [
    {
     "name": "stdout",
     "output_type": "stream",
     "text": [
      "['Duck', 'Cow', 'dog', 'Lion']\n"
     ]
    }
   ],
   "source": [
    "animals = [\"Lion\", \"dog\" , \"Cow\" ,\"Duck\"]\n",
    "#animals.sort()\n",
    "#print(animals)\n",
    "#animals.sort(reverse=True)\n",
    "#print(animals)\n",
    "animals.reverse()\n",
    "print(animals)"
   ]
  },
  {
   "cell_type": "code",
   "execution_count": 19,
   "id": "1bdcb6dd-11e0-46e7-aa3c-35ea17408aa5",
   "metadata": {},
   "outputs": [
    {
     "name": "stdout",
     "output_type": "stream",
     "text": [
      "I Love Dogs\n",
      "I Love Apple\n",
      "I Love Banana\n",
      "I Love Orange\n",
      "ThankYou For Using List in Python\n"
     ]
    }
   ],
   "source": [
    "List = [\"Dogs\",\"Apple\",\"Banana\",\"Orange\"]\n",
    "for list in List:\n",
    "    print(\"I Love \"+list)\n",
    "\n",
    "print(\"ThankYou For Using List in Python\")"
   ]
  },
  {
   "cell_type": "code",
   "execution_count": 20,
   "id": "617eda68-6236-464e-b270-8ed924a34e46",
   "metadata": {},
   "outputs": [
    {
     "name": "stdout",
     "output_type": "stream",
     "text": [
      "0\n",
      "1\n",
      "2\n",
      "3\n",
      "4\n"
     ]
    }
   ],
   "source": [
    "for Value in range(0,5):\n",
    "    print(Value)"
   ]
  },
  {
   "cell_type": "code",
   "execution_count": 22,
   "id": "756487e9-76c6-4b1d-a7a0-3c8ce01ee7d0",
   "metadata": {},
   "outputs": [
    {
     "name": "stdout",
     "output_type": "stream",
     "text": [
      "1\n",
      "5\n",
      "15\n"
     ]
    }
   ],
   "source": [
    "ListNum=[1,2,3,4,5]\n",
    "print(min(ListNum))\n",
    "print(max(ListNum))\n",
    "print(sum(ListNum))\n",
    "\n",
    "\n"
   ]
  },
  {
   "cell_type": "code",
   "execution_count": 27,
   "id": "eb7eead6-ac61-4b0a-b860-de8f7fd69e70",
   "metadata": {},
   "outputs": [
    {
     "name": "stdout",
     "output_type": "stream",
     "text": [
      "['Windows', 'Lunix', 'IOS', 'Android', 'MAC']\n",
      "['IOS', 'Android']\n",
      "['IOS', 'Android', 'MAC']\n"
     ]
    }
   ],
   "source": [
    "OS = [\"Windows\",\"Lunix\",\"IOS\",\"Android\",\"MAC\"]\n",
    "print(OS[0:5])\n",
    "print(OS[2:4])\n",
    "print(OS[-3:])"
   ]
  },
  {
   "cell_type": "code",
   "execution_count": 29,
   "id": "780cf2f4-e811-457d-a0bb-d1dac0026a5d",
   "metadata": {},
   "outputs": [
    {
     "name": "stdout",
     "output_type": "stream",
     "text": [
      "Windows\n",
      "Lunix\n",
      "IOS\n",
      "Android\n",
      "MAC\n"
     ]
    }
   ],
   "source": [
    "OS = [\"Windows\",\"Lunix\",\"IOS\",\"Android\",\"MAC\"]\n",
    "for os in OS[0:5]:\n",
    "    print(os)"
   ]
  },
  {
   "cell_type": "code",
   "execution_count": 34,
   "id": "ce0c0c78-bb60-481e-9f4c-66e6a9a15419",
   "metadata": {},
   "outputs": [
    {
     "name": "stdout",
     "output_type": "stream",
     "text": [
      "['Java', 'Javascript', 'Python', 'PHP']\n",
      "['Java', 'Javascript', 'Python', 'PHP', 'Kotlin']\n"
     ]
    }
   ],
   "source": [
    "ProgLang = [\"Java\",\"Javascript\",\"Python\",\"PHP\"]\n",
    "print(ProgLang)\n",
    "Copy_prolang = ProgLang[:]\n",
    "Copy_prolang.append(\"Kotlin\")\n",
    "print(Copy_prolang)"
   ]
  },
  {
   "cell_type": "code",
   "execution_count": 37,
   "id": "171b5c7a-b01c-4bd9-9003-d5226f6adb23",
   "metadata": {},
   "outputs": [
    {
     "name": "stdout",
     "output_type": "stream",
     "text": [
      "('Java', 'Kotlin')\n",
      "Java\n",
      "Kotlin\n",
      "(23, 42, 23)\n"
     ]
    }
   ],
   "source": [
    "tup = (\"Java\",\"Kotlin\")\n",
    "print(tup)\n",
    "for tup in tup:\n",
    "    print(tup)\n",
    "tup = (23,42,23)\n",
    "print(tup)"
   ]
  },
  {
   "cell_type": "code",
   "execution_count": 39,
   "id": "bfe1384b-b46f-4969-b9c7-9614597c9d2e",
   "metadata": {},
   "outputs": [
    {
     "name": "stdout",
     "output_type": "stream",
     "text": [
      "True\n"
     ]
    }
   ],
   "source": [
    "MyList = [\"Apple\",\"Mango\",\"Banana\"]\n",
    "if \"Apple\" and \"Mango\" in MyList:\n",
    "    print(True)\n",
    "else:\n",
    "    print(False)"
   ]
  },
  {
   "cell_type": "code",
   "execution_count": 42,
   "id": "8f33055f-86d3-4121-8bb9-90dab6057217",
   "metadata": {},
   "outputs": [
    {
     "name": "stdout",
     "output_type": "stream",
     "text": [
      "peach It,s In The List\n"
     ]
    }
   ],
   "source": [
    "MyList = [\"Apple\",\"Mango\",\"Banana\",\"Peach\"]\n",
    "fruit = \"Peach\"\n",
    "if fruit not in MyList:\n",
    "    print(fruit.lower()+\" It,s Not in The List\")\n",
    "else:\n",
    "    print(fruit.lower()+\" It,s In The List\")\n"
   ]
  },
  {
   "cell_type": "code",
   "execution_count": 46,
   "id": "181df862-6fff-4fe3-8db7-f74b6c6a50a8",
   "metadata": {},
   "outputs": [
    {
     "name": "stdout",
     "output_type": "stream",
     "text": [
      "Program for Bank Loan Eligibility Criteria: \n",
      "You are not eligible for bank loan\n"
     ]
    }
   ],
   "source": [
    "print(\"Program for Bank Loan Eligibility Criteria: \")\n",
    "salary = 100\n",
    "if salary > 1000:\n",
    "    amount = 200\n",
    "    print(\"You are eligible for bank loan at\",amount,\"amount\")\n",
    "elif salary == 1000:\n",
    "    amount = 500\n",
    "    print(\"You are eligible for bank loan at\",amount,\"amount\")\n",
    "else:\n",
    "    print(\"You are not eligible for bank loan\")"
   ]
  },
  {
   "cell_type": "code",
   "execution_count": 50,
   "id": "4f928888-66cb-42a5-b46f-9ac7ffa30de8",
   "metadata": {},
   "outputs": [
    {
     "name": "stdout",
     "output_type": "stream",
     "text": [
      "Zoo Discount\n",
      "and those who vist more then 3 times are eligible\n"
     ]
    },
    {
     "name": "stdin",
     "output_type": "stream",
     "text": [
      "How Many Times You Visit,  6\n"
     ]
    },
    {
     "name": "stdout",
     "output_type": "stream",
     "text": [
      "You get a Discount of  60 $\n"
     ]
    }
   ],
   "source": [
    "print(\"Zoo Discount\")\n",
    "print(\"and those who vist more then 3 times are eligible\")\n",
    "price = 120\n",
    "visit = int(input(\"How Many Times You Visit, \"))\n",
    "if visit == 3:\n",
    "    price = 120-30\n",
    "    print(\"You get a Discount of \",price,\"$\")\n",
    "elif visit == 4:\n",
    "    price = 120-40\n",
    "    print(\"You get a Discount of \",price,\"$\")\n",
    "elif visit == 5:\n",
    "    price = 120-50\n",
    "    print(\"You get a Discount of \",price,\"$\")\n",
    "elif visit == 5:\n",
    "    price = 120-50\n",
    "    print(\"You get a Discount of \",price,\"$\")\n",
    "elif visit == 6:\n",
    "    price = 120-60\n",
    "    print(\"You get a Discount of \",price,\"$\")\n",
    "else:\n",
    "    print(\"You Are Not Eligible For Discount\")"
   ]
  },
  {
   "cell_type": "code",
   "execution_count": 8,
   "id": "c5d4e9da-145b-4136-b12f-d04c0e3fbe3b",
   "metadata": {},
   "outputs": [
    {
     "name": "stdout",
     "output_type": "stream",
     "text": [
      "Dictionaries in Pyhton\n",
      "Hunza\n",
      "Gilgit\n",
      "Islamabad\n",
      "Karachi\n"
     ]
    }
   ],
   "source": [
    "print(\"Dictionaries in Pyhton\")\n",
    "dic = {'1':'Hunza','2':'Gilgit','3':'Islamabad'}\n",
    "print(dic['1'])\n",
    "print(dic['2'])\n",
    "print(dic['3'])\n",
    "#Adding a new key and value to dic\n",
    "dic['4']='Karachi'\n",
    "print(dic['4'])"
   ]
  },
  {
   "cell_type": "code",
   "execution_count": 12,
   "id": "ecc93f8d-d58a-41b6-898d-6a31f756fe8b",
   "metadata": {},
   "outputs": [
    {
     "name": "stdout",
     "output_type": "stream",
     "text": [
      "{1: 'Hunza', 2: 'Gilgit', 3: 'Islamabad'}\n"
     ]
    }
   ],
   "source": [
    "dic = {}\n",
    "dic[1]='Hunza'\n",
    "dic[2]='Gilgit'\n",
    "dic[3]='Islamabad'\n",
    "print(dic)"
   ]
  },
  {
   "cell_type": "code",
   "execution_count": 13,
   "id": "44b7cc09-a498-4d7f-bb19-8d2af8abb21c",
   "metadata": {},
   "outputs": [
    {
     "name": "stdout",
     "output_type": "stream",
     "text": [
      "Before Edit {'1': 'Hunza', '2': 'Gilgit', '3': 'Islamabad'}\n",
      "After Edit {'1': 'Hunza', '2': 'Gilgit', '3': 'Karachi'}\n"
     ]
    }
   ],
   "source": [
    "dic = {'1':'Hunza','2':'Gilgit','3':'Islamabad'}\n",
    "print(\"Before Edit\",dic)\n",
    "dic['3']='Karachi'\n",
    "print(\"After Edit\",dic)"
   ]
  },
  {
   "cell_type": "code",
   "execution_count": 15,
   "id": "60943fc3-d7dd-43f7-882a-e13cc6ed38a9",
   "metadata": {},
   "outputs": [
    {
     "name": "stdout",
     "output_type": "stream",
     "text": [
      "Before Deletion {'1': 'Hunza', '2': 'Gilgit', '3': 'Islamabad'}\n",
      "After Deletion {'1': 'Hunza', '2': 'Gilgit'}\n"
     ]
    }
   ],
   "source": [
    "dic = {'1':'Hunza','2':'Gilgit','3':'Islamabad'}\n",
    "print(\"Before Deletion\",dic)\n",
    "del dic['3']\n",
    "print(\"After Deletion\",dic)"
   ]
  },
  {
   "cell_type": "code",
   "execution_count": 19,
   "id": "812be139-0fd4-4bdb-861a-4e77619dd4b9",
   "metadata": {},
   "outputs": [
    {
     "name": "stdout",
     "output_type": "stream",
     "text": [
      "Enter a Name:\n"
     ]
    },
    {
     "name": "stdin",
     "output_type": "stream",
     "text": [
      "Inserted Name: sdsa\n",
      "Inserted Name: ads\n",
      "Inserted Name: Don\n",
      "Inserted Name: John\n"
     ]
    }
   ],
   "source": [
    "i=1\n",
    "print(\"Enter a Name:\")\n",
    "while i<=5:\n",
    "    n=input(\"Inserted Name:\")\n",
    "    if n=='John':\n",
    "        break\n",
    "    if n=='Don':\n",
    "        continue\n",
    "    i=i+1\n",
    "    "
   ]
  },
  {
   "cell_type": "code",
   "execution_count": 21,
   "id": "a9278376-d1aa-4c3d-827e-7ec4187a2152",
   "metadata": {},
   "outputs": [
    {
     "name": "stdout",
     "output_type": "stream",
     "text": [
      "First Name is Junaid\n",
      "Last Name is Ali\n",
      "\n",
      "\n",
      "First Name is John\n",
      "Last Name is Die\n",
      "\n",
      "\n"
     ]
    }
   ],
   "source": [
    "#Function\n",
    "def names(Fname , Lname):\n",
    "    print('First Name is '+Fname)\n",
    "    print('Last Name is '+Lname)\n",
    "    print('\\n')\n",
    "#Function Call    \n",
    "names(\"Junaid\",\"Ali\")\n",
    "names(\"John\",\"Die\")"
   ]
  },
  {
   "cell_type": "code",
   "execution_count": 22,
   "id": "da4612cf-5f20-41fd-9653-a899a96cc2a8",
   "metadata": {},
   "outputs": [
    {
     "name": "stdout",
     "output_type": "stream",
     "text": [
      "30\n"
     ]
    }
   ],
   "source": [
    "def Add(a,b):\n",
    "    total = a+b\n",
    "    return total\n",
    "#Function call\n",
    "print(Add(10,20))"
   ]
  },
  {
   "cell_type": "code",
   "execution_count": 28,
   "id": "3b839e77-8735-445c-8517-3e91b98967fd",
   "metadata": {},
   "outputs": [
    {
     "name": "stdout",
     "output_type": "stream",
     "text": [
      "Name is Junaid Ali Age is 26 Id is 03495328703\n"
     ]
    }
   ],
   "source": [
    "class Person:\n",
    "    def insert(self,Name,age,Id):\n",
    "        self.Name=Name\n",
    "        self.age=age\n",
    "        self.Id=Id\n",
    "    def output(self):\n",
    "        print(\"Name is \"+self.Name,\"Age is \"+self.age,\"Id is \"+self.Id)\n",
    "j=Person()\n",
    "j.insert(\"Junaid Ali\",\"26\",\"03495328703\")\n",
    "j.output()"
   ]
  },
  {
   "cell_type": "code",
   "execution_count": 29,
   "id": "4cb433c5-b61e-44d8-82a5-57faa71d7db5",
   "metadata": {},
   "outputs": [
    {
     "name": "stdout",
     "output_type": "stream",
     "text": [
      "Your Name is Junaid Ali Your Age is 26 Your Id is 03495328703\n"
     ]
    }
   ],
   "source": [
    "class Person:\n",
    "    def __init__(self,Name,age,Id):\n",
    "        self.Name=Name\n",
    "        self.age=age\n",
    "        self.Id=Id\n",
    "    def output(self):\n",
    "        print(\"Your Name is \"+self.Name,\"Your Age is \"+self.age,\"Your Id is \"+self.Id)\n",
    "j=Person(\"Junaid Ali\",\"26\",\"03495328703\")\n",
    "j.output()"
   ]
  },
  {
   "cell_type": "code",
   "execution_count": 30,
   "id": "59b502bc-e20c-4a10-950c-3b2401c923b9",
   "metadata": {},
   "outputs": [
    {
     "name": "stdout",
     "output_type": "stream",
     "text": [
      "Your Name is Junaid Ali Your Age is 26 Your Id is 03495328703\n"
     ]
    }
   ],
   "source": [
    "class Person:\n",
    "    def __init__(self,Name,age,Id):\n",
    "        self.Name=Name\n",
    "        self.age=age\n",
    "        self.Id=Id\n",
    "    def output(self):\n",
    "        print(\"Your Name is \"+self.Name,\"Your Age is \"+self.age,\"Your Id is \"+self.Id)\n",
    "class Child(Person):\n",
    "    pass\n",
    "kids = Child(\"Junaid Ali\",\"26\",\"03495328703\")\n",
    "kids.output()"
   ]
  },
  {
   "cell_type": "code",
   "execution_count": null,
   "id": "a22588b3-6aa4-4f78-8bd9-d3c7f7ba6500",
   "metadata": {},
   "outputs": [],
   "source": []
  }
 ],
 "metadata": {
  "kernelspec": {
   "display_name": "Python 3 (ipykernel)",
   "language": "python",
   "name": "python3"
  },
  "language_info": {
   "codemirror_mode": {
    "name": "ipython",
    "version": 3
   },
   "file_extension": ".py",
   "mimetype": "text/x-python",
   "name": "python",
   "nbconvert_exporter": "python",
   "pygments_lexer": "ipython3",
   "version": "3.12.3"
  }
 },
 "nbformat": 4,
 "nbformat_minor": 5
}
